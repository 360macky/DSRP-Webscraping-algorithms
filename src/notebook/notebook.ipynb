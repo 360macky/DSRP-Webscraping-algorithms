{
  "nbformat": 4,
  "nbformat_minor": 0,
  "metadata": {
    "colab": {
      "name": "WebScraping Desafío #3",
      "provenance": [],
      "collapsed_sections": [],
      "toc_visible": true
    },
    "kernelspec": {
      "display_name": "Python 3",
      "name": "python3"
    }
  },
  "cells": [
    {
      "cell_type": "markdown",
      "metadata": {
        "id": "gKiaBG8feIKn"
      },
      "source": [
        "<center>\r\n",
        "<h1><b>🔬 WebScraping Desafío #3 🕸️</b></h1>\r\n",
        "</center>"
      ]
    },
    {
      "cell_type": "markdown",
      "metadata": {
        "id": "a7bS1XE-Xucb"
      },
      "source": [
        "# 🧪 Recolección de información de medios de comunicación\n",
        "\n",
        "**Tareas:**\n",
        "\n",
        "> Crear el código de scraping para artículos de los portales de noticias del Perú\n",
        "\n",
        "> Avanzar con el código para las primeras fuentes de finromación que puedan darte, hacer una prueba rápida. En todo caso, ayudar al equipo de información sin problema.\n"
      ]
    },
    {
      "cell_type": "markdown",
      "metadata": {
        "id": "oMtNjlC54-8M"
      },
      "source": [
        "## 🌐 Enlaces de información"
      ]
    },
    {
      "cell_type": "code",
      "metadata": {
        "id": "VKqa4FvjXQ3j"
      },
      "source": [
        "media_ownership_monitor_peru = 'https://peru.mom-rsf.org/es/medios/'\r\n",
        "peru_press_list = 'http://www4.congreso.gob.pe/sabueso/l-notic-peru.htm'\r\n",
        "origen_andino_list = 'http://www.origenandino.com/datos-utiles-turistas-viajeros-peru/medios-comunicacion-peru.html'"
      ],
      "execution_count": null,
      "outputs": []
    },
    {
      "cell_type": "markdown",
      "metadata": {
        "id": "jQ5bDtd0-X2U"
      },
      "source": [
        "### Extracción de datos"
      ]
    },
    {
      "cell_type": "code",
      "metadata": {
        "id": "WfbKKTXY5PAr"
      },
      "source": [
        "import requests\r\n",
        "from bs4 import BeautifulSoup\r\n",
        "import pandas as pd"
      ],
      "execution_count": null,
      "outputs": []
    },
    {
      "cell_type": "code",
      "metadata": {
        "id": "Fqw5LqXL2StQ"
      },
      "source": [
        "!pip freeze > requirements.txt"
      ],
      "execution_count": null,
      "outputs": []
    },
    {
      "cell_type": "code",
      "metadata": {
        "colab": {
          "base_uri": "https://localhost:8080/",
          "height": 35
        },
        "id": "ej2w2aGixe1e",
        "outputId": "21e56966-2211-46bd-d6a6-5122ffe1b93e"
      },
      "source": [
        "import pandas\r\n",
        "pandas.__version__"
      ],
      "execution_count": null,
      "outputs": [
        {
          "output_type": "execute_result",
          "data": {
            "application/vnd.google.colaboratory.intrinsic+json": {
              "type": "string"
            },
            "text/plain": [
              "'1.1.5'"
            ]
          },
          "metadata": {
            "tags": []
          },
          "execution_count": 90
        }
      ]
    },
    {
      "cell_type": "code",
      "metadata": {
        "id": "36xrsEe6DnQ9"
      },
      "source": [
        "momperu_request = requests.get(media_ownership_monitor_peru)\r\n",
        "momperu_soup = BeautifulSoup(momperu_request.text, 'lxml')\r\n",
        "teasers = momperu_soup.find_all('div', attrs={'class': 'teaser'})"
      ],
      "execution_count": null,
      "outputs": []
    },
    {
      "cell_type": "code",
      "metadata": {
        "id": "bd8BTTEKFqrO"
      },
      "source": [
        "media_peru = []"
      ],
      "execution_count": null,
      "outputs": []
    },
    {
      "cell_type": "code",
      "metadata": {
        "id": "59teiK_KFDAF"
      },
      "source": [
        "media_ownership_monitor_peru_base_url = 'https://peru.mom-rsf.org'\n",
        "for teaser in teasers:\n",
        "  mom_peru_relative_path = teaser.find('a').get('href')\n",
        "  category_url = media_ownership_monitor_peru_base_url + mom_peru_relative_path\n",
        "  category_request = requests.get(category_url)\n",
        "  \n",
        "  category_soup = BeautifulSoup(category_request.text, 'lxml')\n",
        " \n",
        "  category_teasers = category_soup.find_all('div', attrs={'class': 'teaser chanel s cl'})\n",
        " \n",
        "  for category_teaser in category_teasers:\n",
        "    media_relative_path = category_teaser.find('a').get('href')\n",
        "    media_url = media_ownership_monitor_peru_base_url + media_relative_path\n",
        "    media_peru.append(media_url)"
      ],
      "execution_count": null,
      "outputs": []
    },
    {
      "cell_type": "markdown",
      "metadata": {
        "id": "rxOSij8VJCOU"
      },
      "source": [
        "#### Extracción de los principales medios del Perú"
      ]
    },
    {
      "cell_type": "code",
      "metadata": {
        "id": "xNLrv7PWI6Yo",
        "colab": {
          "base_uri": "https://localhost:8080/"
        },
        "outputId": "4060ee8a-c62d-4512-b7d9-3ac857dd1129"
      },
      "source": [
        "media_peru"
      ],
      "execution_count": null,
      "outputs": [
        {
          "output_type": "execute_result",
          "data": {
            "text/plain": [
              "['https://peru.mom-rsf.org/es/medios/detalles/outlet/radio-capital/',\n",
              " 'https://peru.mom-rsf.org/es/medios/detalles/outlet/radio-felicidad/',\n",
              " 'https://peru.mom-rsf.org/es/medios/detalles/outlet/radio-la-inolvidable/',\n",
              " 'https://peru.mom-rsf.org/es/medios/detalles/outlet/radio-la-karibena/',\n",
              " 'https://peru.mom-rsf.org/es/medios/detalles/outlet/radio-la-zona/',\n",
              " 'https://peru.mom-rsf.org/es/medios/detalles/outlet/radio-moda/',\n",
              " 'https://peru.mom-rsf.org/es/medios/detalles/outlet/radio-nueva-q/',\n",
              " 'https://peru.mom-rsf.org/es/medios/detalles/outlet/radio-onda-cero/',\n",
              " 'https://peru.mom-rsf.org/es/medios/detalles/outlet/radio-panamericana/',\n",
              " 'https://peru.mom-rsf.org/es/medios/detalles/outlet/ritmo-romantica/',\n",
              " 'https://peru.mom-rsf.org/es/medios/detalles/outlet/rpp-noticias/',\n",
              " 'https://peru.mom-rsf.org/es/medios/detalles/outlet/america-tv/',\n",
              " 'https://peru.mom-rsf.org/es/medios/detalles/outlet/atv/',\n",
              " 'https://peru.mom-rsf.org/es/medios/detalles/outlet/atv-noticias/',\n",
              " 'https://peru.mom-rsf.org/es/medios/detalles/outlet/canal-n/',\n",
              " 'https://peru.mom-rsf.org/es/medios/detalles/outlet/latina/',\n",
              " 'https://peru.mom-rsf.org/es/medios/detalles/outlet/panamericana-television/',\n",
              " 'https://peru.mom-rsf.org/es/medios/detalles/outlet/red-tv/',\n",
              " 'https://peru.mom-rsf.org/es/medios/detalles/outlet/rpp-tv/',\n",
              " 'https://peru.mom-rsf.org/es/medios/detalles/outlet/tv-peru/',\n",
              " 'https://peru.mom-rsf.org/es/medios/detalles/outlet/willax/',\n",
              " 'https://peru.mom-rsf.org/es/medios/detalles/outlet/diario-correo/',\n",
              " 'https://peru.mom-rsf.org/es/medios/detalles/outlet/diario-depor/',\n",
              " 'https://peru.mom-rsf.org/es/medios/detalles/outlet/diario-el-comercio/',\n",
              " 'https://peru.mom-rsf.org/es/medios/detalles/outlet/diario-el-popular/',\n",
              " 'https://peru.mom-rsf.org/es/medios/detalles/outlet/diario-exitosa/',\n",
              " 'https://peru.mom-rsf.org/es/medios/detalles/outlet/diario-la-republica/',\n",
              " 'https://peru.mom-rsf.org/es/medios/detalles/outlet/diario-ojo/',\n",
              " 'https://peru.mom-rsf.org/es/medios/detalles/outlet/diario-peru21/',\n",
              " 'https://peru.mom-rsf.org/es/medios/detalles/outlet/diario-publimetro/',\n",
              " 'https://peru.mom-rsf.org/es/medios/detalles/outlet/trome/',\n",
              " 'https://peru.mom-rsf.org/es/medios/detalles/outlet/wwwamericatvcompe/',\n",
              " 'https://peru.mom-rsf.org/es/medios/detalles/outlet/wwwdeporcom/',\n",
              " 'https://peru.mom-rsf.org/es/medios/detalles/outlet/wwwdiariocorreope/',\n",
              " 'https://peru.mom-rsf.org/es/medios/detalles/outlet/wwwelcomerciope/',\n",
              " 'https://peru.mom-rsf.org/es/medios/detalles/outlet/wwwlarepublicape/',\n",
              " 'https://peru.mom-rsf.org/es/medios/detalles/outlet/wwwlatinape/',\n",
              " 'https://peru.mom-rsf.org/es/medios/detalles/outlet/wwwperucom/',\n",
              " 'https://peru.mom-rsf.org/es/medios/detalles/outlet/wwwperu21pe/',\n",
              " 'https://peru.mom-rsf.org/es/medios/detalles/outlet/wwwrpppe/',\n",
              " 'https://peru.mom-rsf.org/es/medios/detalles/outlet/wwwtromepe/']"
            ]
          },
          "metadata": {
            "tags": []
          },
          "execution_count": 56
        }
      ]
    },
    {
      "cell_type": "markdown",
      "metadata": {
        "id": "kwazBiqDfxdd"
      },
      "source": [
        "En este punto se empiezan a extraer las siguientes secciones de cada hoja de información pública de cada medio de comunicación:\r\n",
        "\r\n",
        "* Nombre\r\n",
        "* Cuota de audencia (%)\r\n",
        "* Tipo de propiedad\r\n",
        "* Cobertura geográfica\r\n",
        "* Tipo de contenido\r\n",
        "* Empresa/Grupos mediáticos"
      ]
    },
    {
      "cell_type": "code",
      "metadata": {
        "id": "-4zjzyQDI69H"
      },
      "source": [
        "media_peru_information = []\r\n",
        "\r\n",
        "for media in media_peru:\r\n",
        "  url_media = media\r\n",
        "  media_request = requests.get(url_media)\r\n",
        "  media_soup = BeautifulSoup(media_request.text, 'lxml')\r\n",
        "  media_facts = media_soup.find(attrs={'class': 'facts box white cl'}).find_all(attrs={'class': 'item cl'})\r\n",
        "  \r\n",
        "  fields = ['cuota_de_audiencia',\r\n",
        "            'tipo_de_propiedad',\r\n",
        "            'cobertura_geografica',\r\n",
        "            'tipo_de_contenido',\r\n",
        "            'empresas_grupos_mediaticos']\r\n",
        "\r\n",
        "  field_index = 0\r\n",
        "\r\n",
        "  media_peru_information_row = {\r\n",
        "    'nombre': '',\r\n",
        "    'cuota_de_audiencia': '',\r\n",
        "    'tipo_de_propiedad': '',\r\n",
        "    'cobertura_geografica': '',\r\n",
        "    'tipo_de_contenido': '',\r\n",
        "    'empresas_grupos_mediaticos': ''\r\n",
        "  }\r\n",
        "\r\n",
        "  media_peru_information_row['nombre'] = media_soup.find(attrs={'class': 'hl1'}).get_text().upper()\r\n",
        "\r\n",
        "  for media_fact in media_facts:\r\n",
        "    media_peru_information_row[fields[field_index]] = media_fact.find('p').get_text().upper().strip()\r\n",
        "    field_index += 1\r\n",
        "  \r\n",
        "  media_peru_information.append(media_peru_information_row)\r\n"
      ],
      "execution_count": null,
      "outputs": []
    },
    {
      "cell_type": "code",
      "metadata": {
        "id": "5jX2xCOOvgWo"
      },
      "source": [
        "media_peru_dataframe = pd.DataFrame(media_peru_information)"
      ],
      "execution_count": null,
      "outputs": []
    },
    {
      "cell_type": "markdown",
      "metadata": {
        "id": "Z55QjDKCv-Es"
      },
      "source": [
        "Obtenemos un DataFrame con toda la información provista por **OjoPúblico**"
      ]
    },
    {
      "cell_type": "code",
      "metadata": {
        "colab": {
          "base_uri": "https://localhost:8080/",
          "height": 1000
        },
        "id": "yJiV2D6_v0Xf",
        "outputId": "ef4a0b6f-0cc0-4d6d-c43b-08ac285eb5ce"
      },
      "source": [
        "media_peru_dataframe"
      ],
      "execution_count": null,
      "outputs": [
        {
          "output_type": "execute_result",
          "data": {
            "text/html": [
              "<div>\n",
              "<style scoped>\n",
              "    .dataframe tbody tr th:only-of-type {\n",
              "        vertical-align: middle;\n",
              "    }\n",
              "\n",
              "    .dataframe tbody tr th {\n",
              "        vertical-align: top;\n",
              "    }\n",
              "\n",
              "    .dataframe thead th {\n",
              "        text-align: right;\n",
              "    }\n",
              "</style>\n",
              "<table border=\"1\" class=\"dataframe\">\n",
              "  <thead>\n",
              "    <tr style=\"text-align: right;\">\n",
              "      <th></th>\n",
              "      <th>nombre</th>\n",
              "      <th>cuota_de_audiencia</th>\n",
              "      <th>tipo_de_propiedad</th>\n",
              "      <th>cobertura_geografica</th>\n",
              "      <th>tipo_de_contenido</th>\n",
              "      <th>empresas_grupos_mediaticos</th>\n",
              "    </tr>\n",
              "  </thead>\n",
              "  <tbody>\n",
              "    <tr>\n",
              "      <th>0</th>\n",
              "      <td>RADIO CAPITAL</td>\n",
              "      <td>4.1% (ALCANCE SEMANAL CPI 2015)</td>\n",
              "      <td>PRIVADA</td>\n",
              "      <td>COBERTURA NACIONAL</td>\n",
              "      <td>CONTENIDO GRATUITO</td>\n",
              "      <td>GRUPO RPP</td>\n",
              "    </tr>\n",
              "    <tr>\n",
              "      <th>1</th>\n",
              "      <td>RADIO FELICIDAD</td>\n",
              "      <td>8.0 % (ALCANCE SEMANAL, CPI 2015)</td>\n",
              "      <td>PRIVADA</td>\n",
              "      <td>COBERTURA NACIONAL</td>\n",
              "      <td>CONTENIDO GRATUITO</td>\n",
              "      <td>GRUPO RPP</td>\n",
              "    </tr>\n",
              "    <tr>\n",
              "      <th>2</th>\n",
              "      <td>RADIO LA INOLVIDABLE</td>\n",
              "      <td>12.70 % (ALCANCE SEMANAL, CPI 2015)</td>\n",
              "      <td>PRIVADA</td>\n",
              "      <td>NACIONAL</td>\n",
              "      <td>CONTENIDO GRATUITO</td>\n",
              "      <td>CRP MEDIOS Y ENTRETENIMIENTO</td>\n",
              "    </tr>\n",
              "    <tr>\n",
              "      <th>3</th>\n",
              "      <td>RADIO LA KARIBEÑA</td>\n",
              "      <td>20.90 % (ALCANCE SEMANAL, CPI 2015)</td>\n",
              "      <td>PRIVADA</td>\n",
              "      <td>COBERTURA NACIONAL</td>\n",
              "      <td>GRATUITO</td>\n",
              "      <td>CORPORACIÓN UNIVERSAL</td>\n",
              "    </tr>\n",
              "    <tr>\n",
              "      <th>4</th>\n",
              "      <td>RADIO LA ZONA</td>\n",
              "      <td>11.7% (ALCANCE SEMANAL, CPI 2015)</td>\n",
              "      <td>PRIVADA</td>\n",
              "      <td>COBERTURA NACIONAL</td>\n",
              "      <td>CONTENIDO GRATUITO</td>\n",
              "      <td>GRUPO RPP</td>\n",
              "    </tr>\n",
              "    <tr>\n",
              "      <th>5</th>\n",
              "      <td>RADIO MODA</td>\n",
              "      <td>19.25 % (ALCANCE SEMANAL, CPI 2015)</td>\n",
              "      <td>PRIVADA</td>\n",
              "      <td>COBERTURA NACIONAL</td>\n",
              "      <td>CONTENIDO GRATUITO</td>\n",
              "      <td>CRP MEDIOS Y ENTRETENIMIENTO</td>\n",
              "    </tr>\n",
              "    <tr>\n",
              "      <th>6</th>\n",
              "      <td>RADIO NUEVA Q</td>\n",
              "      <td>14.6 (ALCANCE SEMANAL CPI 2015)</td>\n",
              "      <td>PRIVADA</td>\n",
              "      <td>NACIONAL</td>\n",
              "      <td>CONTENIDO GRATUITO</td>\n",
              "      <td>CRP MEDIOS Y ENTRETENIMIENTO</td>\n",
              "    </tr>\n",
              "    <tr>\n",
              "      <th>7</th>\n",
              "      <td>RADIO ONDA CERO</td>\n",
              "      <td>9.9 % (ALCANCE SEMANAL, CPI 2015)</td>\n",
              "      <td>PRIVADA</td>\n",
              "      <td>COBERTURA NACIONAL</td>\n",
              "      <td>CONTENIDO GRATUITO</td>\n",
              "      <td>GRUPO PANAMERICANA DE RADIOS</td>\n",
              "    </tr>\n",
              "    <tr>\n",
              "      <th>8</th>\n",
              "      <td>RADIO PANAMERICANA</td>\n",
              "      <td>12.1 % (ALCANCE SEMANAL, CPI 2015)</td>\n",
              "      <td>PRIVADA</td>\n",
              "      <td>COBERTURA NACIONAL</td>\n",
              "      <td>CONTENIDO GRATUITO</td>\n",
              "      <td>GRUPO PANAMERICANA DE RADIOS</td>\n",
              "    </tr>\n",
              "    <tr>\n",
              "      <th>9</th>\n",
              "      <td>RITMO ROMÁNTICA</td>\n",
              "      <td>14.80 % (ALCANCE SEMANAL, CPI 2015)</td>\n",
              "      <td>PRIVADA</td>\n",
              "      <td>COBERTURA NACIONAL</td>\n",
              "      <td>CONTENIDO GRATUITO</td>\n",
              "      <td>CRP MEDIOS Y ENTRETENIMIENTO</td>\n",
              "    </tr>\n",
              "    <tr>\n",
              "      <th>10</th>\n",
              "      <td>RPP NOTICIAS</td>\n",
              "      <td>25.6 % (ALCANCE SEMANAL, CPI 2015)</td>\n",
              "      <td>PRIVADA</td>\n",
              "      <td>COBERTURA NACIONAL</td>\n",
              "      <td>CONTENIDO GRATUITO</td>\n",
              "      <td>GRUPO RPP</td>\n",
              "    </tr>\n",
              "    <tr>\n",
              "      <th>11</th>\n",
              "      <td>AMÉRICA TV</td>\n",
              "      <td>DATOS FALTANTES</td>\n",
              "      <td>PRIVADO</td>\n",
              "      <td>COBERTURA NACIONAL</td>\n",
              "      <td>CONTENIDO GRATUITO</td>\n",
              "      <td>GRUPO EL COMERCIO</td>\n",
              "    </tr>\n",
              "    <tr>\n",
              "      <th>12</th>\n",
              "      <td>ATV</td>\n",
              "      <td>DATOS FALTANTES</td>\n",
              "      <td>PRIVADO</td>\n",
              "      <td>NACIONAL</td>\n",
              "      <td>GRATUITO</td>\n",
              "      <td>GRUPO ATV (ALBAVISIÓN)</td>\n",
              "    </tr>\n",
              "    <tr>\n",
              "      <th>13</th>\n",
              "      <td>ATV+ NOTICIAS</td>\n",
              "      <td>DATOS FALTANTES</td>\n",
              "      <td>PRIVADO</td>\n",
              "      <td>NACIONAL</td>\n",
              "      <td>GRATUITO</td>\n",
              "      <td>GRUPO ATV (ALBAVISIÓN)</td>\n",
              "    </tr>\n",
              "    <tr>\n",
              "      <th>14</th>\n",
              "      <td>CANAL N</td>\n",
              "      <td>DATOS FALTANTES</td>\n",
              "      <td>PRIVADO</td>\n",
              "      <td>COBERTURA NACIONAL</td>\n",
              "      <td>CONTENIDO GRATUITO</td>\n",
              "      <td>GRUPO EL COMERCIO</td>\n",
              "    </tr>\n",
              "    <tr>\n",
              "      <th>15</th>\n",
              "      <td>LATINA</td>\n",
              "      <td>DATOS FALTANTES</td>\n",
              "      <td>PRIVADO</td>\n",
              "      <td>COBERTURA NACIONAL</td>\n",
              "      <td>CONTENIDO GRATUITO</td>\n",
              "      <td>GRUPO LATINA</td>\n",
              "    </tr>\n",
              "    <tr>\n",
              "      <th>16</th>\n",
              "      <td>PANAMERICANA TELEVISIÓN</td>\n",
              "      <td>DATOS FALTANTES</td>\n",
              "      <td>PRIVADO</td>\n",
              "      <td>COBERTURA NACIONAL</td>\n",
              "      <td>CONTENIDO GRATUITO</td>\n",
              "      <td>PANAMERICANA TELEVISIÓN</td>\n",
              "    </tr>\n",
              "    <tr>\n",
              "      <th>17</th>\n",
              "      <td>RED TV</td>\n",
              "      <td>DATOS FALTANTES</td>\n",
              "      <td>PRIVADO</td>\n",
              "      <td>COBERTURA NACIONAL</td>\n",
              "      <td>GRATUITO</td>\n",
              "      <td>GRUPO ATV (ALBAVISIÓN)</td>\n",
              "    </tr>\n",
              "    <tr>\n",
              "      <th>18</th>\n",
              "      <td>RPP TV</td>\n",
              "      <td>DATOS FALTANTES</td>\n",
              "      <td>PRIVADA</td>\n",
              "      <td>COBERTURA NACIONAL</td>\n",
              "      <td>CONTENIDO PAGADO</td>\n",
              "      <td>GRUPO RPP</td>\n",
              "    </tr>\n",
              "    <tr>\n",
              "      <th>19</th>\n",
              "      <td>TV PERÚ</td>\n",
              "      <td>DATOS FALTANTES</td>\n",
              "      <td>PÚBLICA</td>\n",
              "      <td>COBERTURA NACIONAL</td>\n",
              "      <td>CONTENIDO GRATUITO</td>\n",
              "      <td>ESTADO PERUANO</td>\n",
              "    </tr>\n",
              "    <tr>\n",
              "      <th>20</th>\n",
              "      <td>WILLAX</td>\n",
              "      <td>DATOS FALTANTES</td>\n",
              "      <td>PRIVADA</td>\n",
              "      <td>COBERTURA NACIONAL</td>\n",
              "      <td>CONTENIDO GRATUITO</td>\n",
              "      <td></td>\n",
              "    </tr>\n",
              "    <tr>\n",
              "      <th>21</th>\n",
              "      <td>DIARIO CORREO</td>\n",
              "      <td>DATOS FALTANTES</td>\n",
              "      <td>PRIVADO</td>\n",
              "      <td>COBERTURA NACIONAL</td>\n",
              "      <td>CONTENIDO PAGADO</td>\n",
              "      <td>GRUPO EL COMERCIO</td>\n",
              "    </tr>\n",
              "    <tr>\n",
              "      <th>22</th>\n",
              "      <td>DIARIO DEPOR</td>\n",
              "      <td>DATOS FALTANTES</td>\n",
              "      <td>PRIVADO</td>\n",
              "      <td>COBERTURA NACIONAL</td>\n",
              "      <td>CONTENIDO PAGADO</td>\n",
              "      <td>GRUPO EL COMERCIO</td>\n",
              "    </tr>\n",
              "    <tr>\n",
              "      <th>23</th>\n",
              "      <td>DIARIO EL COMERCIO</td>\n",
              "      <td>DATOS FALTANTES</td>\n",
              "      <td>PRIVADO</td>\n",
              "      <td>COBERTURA NACIONAL</td>\n",
              "      <td>CONTENIDO PAGADO</td>\n",
              "      <td>GRUPO EL COMERCIO</td>\n",
              "    </tr>\n",
              "    <tr>\n",
              "      <th>24</th>\n",
              "      <td>DIARIO EL POPULAR</td>\n",
              "      <td>DATOS FALTANTES</td>\n",
              "      <td>PRIVADO</td>\n",
              "      <td>COBERTURA NACIONAL</td>\n",
              "      <td>CONTENIDO GRATUITO</td>\n",
              "      <td>GRUPO LA REPÚBLICA</td>\n",
              "    </tr>\n",
              "    <tr>\n",
              "      <th>25</th>\n",
              "      <td>DIARIO EXITOSA</td>\n",
              "      <td>DATOS FALTANTES</td>\n",
              "      <td>PRIVADA</td>\n",
              "      <td>COBERTURA NACIONAL</td>\n",
              "      <td>CONTENIDO PAGADO</td>\n",
              "      <td>CORPORACIÓN UNIVERSAL</td>\n",
              "    </tr>\n",
              "    <tr>\n",
              "      <th>26</th>\n",
              "      <td>DIARIO LA REPÚBLICA</td>\n",
              "      <td>DATOS FALTANTES</td>\n",
              "      <td>PRIVADO</td>\n",
              "      <td>COBERTURA NACIONAL</td>\n",
              "      <td>CONTENIDO PAGADO</td>\n",
              "      <td>GRUPO LA REPÚBLICA</td>\n",
              "    </tr>\n",
              "    <tr>\n",
              "      <th>27</th>\n",
              "      <td>DIARIO OJO</td>\n",
              "      <td>DATOS FALTANTES</td>\n",
              "      <td>PRIVADO</td>\n",
              "      <td>COBERTURA NACIONAL</td>\n",
              "      <td>CONTENIDO PAGADO</td>\n",
              "      <td>GRUPO EL COMERCIO</td>\n",
              "    </tr>\n",
              "    <tr>\n",
              "      <th>28</th>\n",
              "      <td>DIARIO PERÚ21</td>\n",
              "      <td>DATOS FALTANTES</td>\n",
              "      <td>PRIVADO</td>\n",
              "      <td>COBERTURA NACIONAL</td>\n",
              "      <td>CONTENIDO PAGADO</td>\n",
              "      <td>GRUPO EL COMERCIO</td>\n",
              "    </tr>\n",
              "    <tr>\n",
              "      <th>29</th>\n",
              "      <td>DIARIO PUBLIMETRO</td>\n",
              "      <td>DATOS FALTANTES</td>\n",
              "      <td>PRIVADO</td>\n",
              "      <td>COBERTURA LOCAL</td>\n",
              "      <td>CONTENIDO GRATUITO</td>\n",
              "      <td>GRUPO EL COMERCIO</td>\n",
              "    </tr>\n",
              "    <tr>\n",
              "      <th>30</th>\n",
              "      <td>TROME</td>\n",
              "      <td>DATOS FALTANTES</td>\n",
              "      <td>PRIVADO</td>\n",
              "      <td>COBERTURA NACIONAL</td>\n",
              "      <td>CONTENIDO PAGADO</td>\n",
              "      <td>GRUPO EL COMERCIO</td>\n",
              "    </tr>\n",
              "    <tr>\n",
              "      <th>31</th>\n",
              "      <td>WWW.AMERICATV.COM.PE</td>\n",
              "      <td>DATOS FALTANTES</td>\n",
              "      <td>PRIVADO</td>\n",
              "      <td>COBERTURA NACIONAL</td>\n",
              "      <td>CONTENIDO GRATUITO</td>\n",
              "      <td>GRUPO EL COMERCIO</td>\n",
              "    </tr>\n",
              "    <tr>\n",
              "      <th>32</th>\n",
              "      <td>DEPOR.COM</td>\n",
              "      <td>DATOS FALTANTES</td>\n",
              "      <td>PRIVADO</td>\n",
              "      <td>COBERTURA NACIONAL</td>\n",
              "      <td>CONTENIDO GRATUITO</td>\n",
              "      <td>GRUPO EL COMERCIO</td>\n",
              "    </tr>\n",
              "    <tr>\n",
              "      <th>33</th>\n",
              "      <td>WWW.DIARIOCORREO.PE</td>\n",
              "      <td>DATOS FALTANTES</td>\n",
              "      <td>PRIVADO</td>\n",
              "      <td>COBERTURA NACIONAL</td>\n",
              "      <td>CONTENIDO GRATUITO</td>\n",
              "      <td>GRUPO EL COMERCIO</td>\n",
              "    </tr>\n",
              "    <tr>\n",
              "      <th>34</th>\n",
              "      <td>WWW.ELCOMERCIO.PE</td>\n",
              "      <td>DATOS FALTANTES</td>\n",
              "      <td>PRIVADO</td>\n",
              "      <td>COBERTURA NACIONAL</td>\n",
              "      <td>CONTENIDO GRATUITO</td>\n",
              "      <td>GRUPO EL COMERCIO</td>\n",
              "    </tr>\n",
              "    <tr>\n",
              "      <th>35</th>\n",
              "      <td>WWW.LAREPUBLICA.PE</td>\n",
              "      <td>95,4 MILLONES USUARIOS ÚNICOS AL AÑO</td>\n",
              "      <td>PRIVADO</td>\n",
              "      <td>COBERTURA NACIONAL</td>\n",
              "      <td>CONTENIDO GRATUITO</td>\n",
              "      <td>GRUPO LA REPÚBLICA</td>\n",
              "    </tr>\n",
              "    <tr>\n",
              "      <th>36</th>\n",
              "      <td>WWW.LATINA.PE</td>\n",
              "      <td>40.8 MILLONES DE USUARIOS ÚNICOS AL AÑO</td>\n",
              "      <td>PRIVADO</td>\n",
              "      <td>COBERTURA NACIONAL</td>\n",
              "      <td>CONTENIDO GRATUITO</td>\n",
              "      <td>GRUPO LATINA</td>\n",
              "    </tr>\n",
              "    <tr>\n",
              "      <th>37</th>\n",
              "      <td>PERU.COM</td>\n",
              "      <td>DATOS FALTANTES</td>\n",
              "      <td>PRIVADO</td>\n",
              "      <td>COBERTURA NACIONAL</td>\n",
              "      <td>CONTENIDO GRATUITO</td>\n",
              "      <td>GRUPO EL COMERCIO</td>\n",
              "    </tr>\n",
              "    <tr>\n",
              "      <th>38</th>\n",
              "      <td>WWW.PERU21.PE</td>\n",
              "      <td>DATOS FALTANTES</td>\n",
              "      <td>PRIVADO</td>\n",
              "      <td>COBERTURA NACIONAL</td>\n",
              "      <td>CONTENIDO GRATUITO</td>\n",
              "      <td>GRUPO EL COMERCIO</td>\n",
              "    </tr>\n",
              "    <tr>\n",
              "      <th>39</th>\n",
              "      <td>RPP.PE</td>\n",
              "      <td>DATOS FALTANTES</td>\n",
              "      <td>PRIVADA</td>\n",
              "      <td>COBERTURA NACIONAL</td>\n",
              "      <td>CONTENIDO GRATUITO</td>\n",
              "      <td>GRUPO RPP</td>\n",
              "    </tr>\n",
              "    <tr>\n",
              "      <th>40</th>\n",
              "      <td>TROME.PE</td>\n",
              "      <td>DATOS FALTANTES</td>\n",
              "      <td>PRIVADO</td>\n",
              "      <td>COBERTURA NACIONAL</td>\n",
              "      <td>CONTENIDO PAGADO</td>\n",
              "      <td>GRUPO EL COMERCIO</td>\n",
              "    </tr>\n",
              "  </tbody>\n",
              "</table>\n",
              "</div>"
            ],
            "text/plain": [
              "                     nombre  ...    empresas_grupos_mediaticos\n",
              "0             RADIO CAPITAL  ...                     GRUPO RPP\n",
              "1           RADIO FELICIDAD  ...                     GRUPO RPP\n",
              "2      RADIO LA INOLVIDABLE  ...  CRP MEDIOS Y ENTRETENIMIENTO\n",
              "3         RADIO LA KARIBEÑA  ...         CORPORACIÓN UNIVERSAL\n",
              "4             RADIO LA ZONA  ...                     GRUPO RPP\n",
              "5                RADIO MODA  ...  CRP MEDIOS Y ENTRETENIMIENTO\n",
              "6             RADIO NUEVA Q  ...  CRP MEDIOS Y ENTRETENIMIENTO\n",
              "7           RADIO ONDA CERO  ...  GRUPO PANAMERICANA DE RADIOS\n",
              "8        RADIO PANAMERICANA  ...  GRUPO PANAMERICANA DE RADIOS\n",
              "9           RITMO ROMÁNTICA  ...  CRP MEDIOS Y ENTRETENIMIENTO\n",
              "10             RPP NOTICIAS  ...                     GRUPO RPP\n",
              "11               AMÉRICA TV  ...             GRUPO EL COMERCIO\n",
              "12                      ATV  ...        GRUPO ATV (ALBAVISIÓN)\n",
              "13            ATV+ NOTICIAS  ...        GRUPO ATV (ALBAVISIÓN)\n",
              "14                  CANAL N  ...             GRUPO EL COMERCIO\n",
              "15                   LATINA  ...                  GRUPO LATINA\n",
              "16  PANAMERICANA TELEVISIÓN  ...       PANAMERICANA TELEVISIÓN\n",
              "17                   RED TV  ...        GRUPO ATV (ALBAVISIÓN)\n",
              "18                   RPP TV  ...                     GRUPO RPP\n",
              "19                  TV PERÚ  ...                ESTADO PERUANO\n",
              "20                   WILLAX  ...                              \n",
              "21            DIARIO CORREO  ...             GRUPO EL COMERCIO\n",
              "22             DIARIO DEPOR  ...             GRUPO EL COMERCIO\n",
              "23       DIARIO EL COMERCIO  ...             GRUPO EL COMERCIO\n",
              "24        DIARIO EL POPULAR  ...            GRUPO LA REPÚBLICA\n",
              "25           DIARIO EXITOSA  ...         CORPORACIÓN UNIVERSAL\n",
              "26      DIARIO LA REPÚBLICA  ...            GRUPO LA REPÚBLICA\n",
              "27               DIARIO OJO  ...             GRUPO EL COMERCIO\n",
              "28            DIARIO PERÚ21  ...             GRUPO EL COMERCIO\n",
              "29        DIARIO PUBLIMETRO  ...             GRUPO EL COMERCIO\n",
              "30                    TROME  ...             GRUPO EL COMERCIO\n",
              "31     WWW.AMERICATV.COM.PE  ...             GRUPO EL COMERCIO\n",
              "32                DEPOR.COM  ...             GRUPO EL COMERCIO\n",
              "33      WWW.DIARIOCORREO.PE  ...             GRUPO EL COMERCIO\n",
              "34        WWW.ELCOMERCIO.PE  ...             GRUPO EL COMERCIO\n",
              "35       WWW.LAREPUBLICA.PE  ...            GRUPO LA REPÚBLICA\n",
              "36            WWW.LATINA.PE  ...                  GRUPO LATINA\n",
              "37                 PERU.COM  ...             GRUPO EL COMERCIO\n",
              "38            WWW.PERU21.PE  ...             GRUPO EL COMERCIO\n",
              "39                   RPP.PE  ...                     GRUPO RPP\n",
              "40                 TROME.PE  ...             GRUPO EL COMERCIO\n",
              "\n",
              "[41 rows x 6 columns]"
            ]
          },
          "metadata": {
            "tags": []
          },
          "execution_count": 59
        }
      ]
    },
    {
      "cell_type": "markdown",
      "metadata": {
        "id": "Co-MwLgtyX5x"
      },
      "source": [
        "Y exportamos como CSV, puedes recargar el panel de archivos de la izquierda para poder ver el nuevo archivo `media_peru.csv`."
      ]
    },
    {
      "cell_type": "code",
      "metadata": {
        "id": "7RBoKng8xHmy"
      },
      "source": [
        "media_peru_dataframe.to_csv('media_peru.csv', encoding='utf-8')"
      ],
      "execution_count": null,
      "outputs": []
    },
    {
      "cell_type": "markdown",
      "metadata": {
        "id": "dtpXfOFjsJ9z"
      },
      "source": [
        "## WebScraping de Origen Andino"
      ]
    },
    {
      "cell_type": "markdown",
      "metadata": {
        "id": "6DqQdQfWcxxm"
      },
      "source": [
        "# 📰 Extracción de contenido de portales digitales de noticias\r\n",
        "\r\n",
        "Los principales campos/labels que se necesitan extraer de los artículos de noticias de medios de comunicación son:\r\n",
        "* Título\r\n",
        "* Contenido del artículo\r\n",
        "* Autoría\r\n",
        "* Categoría/Sección\r\n",
        "* Fecha de publicación\r\n",
        "\r\n",
        "* Cantidad de comentarios, likes o shares (Sólo a través de Facebook)\r\n",
        "\r\n",
        "* Cantidad de visualizaciones en el medio (Alexa Rank)\r\n",
        "\r\n",
        "* Órgano/Organización responsable* (opcional)\r\n",
        "\r\n",
        "---\r\n",
        "\r\n",
        "Empezaremos con:\r\n",
        "* El Comercio\r\n",
        "* La República\r\n",
        "* TV Perú\r\n",
        "* RPP\r\n",
        "* Exitosa\r\n",
        "* Diario El Peruano\r\n",
        "\r\n",
        "\r\n"
      ]
    },
    {
      "cell_type": "markdown",
      "metadata": {
        "id": "RS2-OXQyMX6j"
      },
      "source": [
        "----\r\n",
        "\r\n",
        "## 🚩 Definición de parámetros\r\n",
        "\r\n",
        "Se agregan dos nuevos campos/label a los objetos de artículos:\r\n",
        "\r\n",
        "* Ponderación\r\n",
        "* Verificabilidad\r\n",
        "\r\n",
        "Cuando la Ponderación es mayor o igual a `0.6`, la verificabilidad tomará el valor `True`, y caso contrario `False`.\r\n",
        "\r\n",
        "Un valor `True` representaría un artículo verificable (que pasará al siguiente paso para verificar). Y cuando es `False`, representa un artículo que no es verificable.\r\n",
        "\r\n",
        "### 🔢 Función de Ponderación\r\n",
        "\r\n",
        "| Característica del artículo/noticia      | Cantidad de ponderación |\r\n",
        "| ----------- | -----------             |\r\n",
        "| Si pertenece a las 4 principales fuentes confiables*      | 0.3                   |\r\n",
        "| Si existe nombre del autor      | 0.1                   |\r\n",
        "| Si existe un usuario de Twitter enlazado      | 0.1                   |\r\n",
        "| Si existe fecha de publicación      | 0.1                   |\r\n",
        "\r\n",
        "\r\n",
        "\r\n",
        "#### Fuentes clasificadas como confiables:\r\n",
        "- La República\r\n",
        "- El Comercio\r\n",
        "- RPP\r\n",
        "- TV Perú\r\n",
        "\r\n",
        "----\r\n",
        "\r\n"
      ]
    },
    {
      "cell_type": "code",
      "metadata": {
        "colab": {
          "base_uri": "https://localhost:8080/"
        },
        "id": "fT5itqtKUDCw",
        "outputId": "b308f9bd-c3e9-477a-e76c-2f0a370f2ebf"
      },
      "source": [
        "!pip install feedparser -q"
      ],
      "execution_count": null,
      "outputs": [
        {
          "output_type": "stream",
          "text": [
            "\u001b[?25l\r\u001b[K     |████                            | 10kB 16.8MB/s eta 0:00:01\r\u001b[K     |████████                        | 20kB 14.9MB/s eta 0:00:01\r\u001b[K     |████████████▏                   | 30kB 9.3MB/s eta 0:00:01\r\u001b[K     |████████████████▏               | 40kB 7.6MB/s eta 0:00:01\r\u001b[K     |████████████████████▎           | 51kB 4.4MB/s eta 0:00:01\r\u001b[K     |████████████████████████▎       | 61kB 5.0MB/s eta 0:00:01\r\u001b[K     |████████████████████████████▍   | 71kB 5.1MB/s eta 0:00:01\r\u001b[K     |████████████████████████████████| 81kB 3.6MB/s \n",
            "\u001b[?25h  Building wheel for sgmllib3k (setup.py) ... \u001b[?25l\u001b[?25hdone\n"
          ],
          "name": "stdout"
        }
      ]
    },
    {
      "cell_type": "code",
      "metadata": {
        "id": "DsHoriKGk36G"
      },
      "source": [
        "import feedparser\r\n",
        "\r\n",
        "medios_rss = {\r\n",
        "    'elcomercio': 'https://news.google.com/rss/search?q=%20site%3Aelcomercio.pe%20when:14d&hl=es-419&gl=PE&ceid=PE%3Aes-419',\r\n",
        "    'larepublica': 'https://news.google.com/rss/search?q=%20site%3Alarepublica.pe%20when:14d&hl=es-419&gl=PE&ceid=PE%3Aes-419',\r\n",
        "    'rpp': 'https://news.google.com/rss/search?q=%20site%3Arpp.pe%20when:14d&hl=es-419&gl=PE&ceid=PE%3Aes-419',\r\n",
        "    'tvperu': 'https://news.google.com/rss/search?q=%20site%3Atvperu.gob.pe%20when:14d&hl=es-419&gl=PE&ceid=PE%3Aes-419'\r\n",
        "}\r\n",
        "\r\n",
        "elcomercio_rss = feedparser.parse(medios_rss['elcomercio'])\r\n",
        "larepublica_rss = feedparser.parse(medios_rss['larepublica'])\r\n",
        "rpp_rss = feedparser.parse(medios_rss['rpp'])\r\n",
        "tvperu_rss = feedparser.parse(medios_rss['tvperu'])\r\n",
        "\r\n",
        "elcomercio_articles_links = []\r\n",
        "larepublica_articles_links = []\r\n",
        "rpp_articles_links = []\r\n",
        "tvperu_articles_links = []\r\n",
        "\r\n",
        "for article in elcomercio_rss.entries:\r\n",
        "  elcomercio_articles_links.append(article.link)\r\n",
        "\r\n",
        "for article in larepublica_rss.entries:\r\n",
        "  larepublica_articles_links.append(article.link)\r\n",
        "\r\n",
        "for article in rpp_rss.entries:\r\n",
        "  rpp_articles_links.append(article.link)\r\n",
        "\r\n",
        "for article in tvperu_rss.entries:\r\n",
        "  tvperu_articles_links.append(article.link)\r\n",
        "\r\n"
      ],
      "execution_count": null,
      "outputs": []
    },
    {
      "cell_type": "markdown",
      "metadata": {
        "id": "skWn_xLUJhh7"
      },
      "source": [
        "## El Comercio ✔️"
      ]
    },
    {
      "cell_type": "markdown",
      "metadata": {
        "id": "z0AE8pivLk-H"
      },
      "source": [
        "El patrón de los artículos de noticias de *El Comercio*, suelen tener esta URL:\r\n",
        "\r\n",
        "`\r\n",
        "https://elcomercio.pe + /sección/ + nombre-del-articulo\r\n",
        "`\r\n"
      ]
    },
    {
      "cell_type": "code",
      "metadata": {
        "colab": {
          "base_uri": "https://localhost:8080/",
          "height": 97
        },
        "id": "3R3hMx1DMrgn",
        "outputId": "256da72c-93ca-416d-cd2c-852f06ddd15e"
      },
      "source": [
        "\r\n",
        "\r\n",
        "article = {\r\n",
        "    'url': 'https://elcomercio.pe/lima/sucesos/la-marcha-del-bicentenario-un-mes-despues-un-reportaje-especial-con-la-voz-de-sus-protagonistas-noticia/?ref=ecr',\r\n",
        "    'ponderacion': 0.0,\r\n",
        "    'verificabilidad': False\r\n",
        "}\r\n",
        "\r\n",
        "article_request = requests.get(article['url'])\r\n",
        "article_soup = BeautifulSoup(article_request.text, 'lxml')\r\n",
        "\r\n",
        "article['nombre'] = article_soup.find('h1', attrs={'class': 'sht__title'}).get_text().strip()\r\n",
        "article['contenido'] = article_soup.find('div', attrs={'class': 'story-contents__content'}).get_text().strip()\r\n",
        "article['autoria'] = article_soup.find('a', attrs={'class': 'story-contents__author-link'}).get_text()\r\n",
        "article['seccion'] = article_soup.find('a', attrs={'class': 'st-social__link oflow-h'}).get_text()\r\n",
        "article['fecha_de_publicacion'] = article_soup.find('time', attrs={'class': 'story-contents__time'}).get('datetime')\r\n",
        "\r\n",
        "if article['url'].startswith('https://elcomercio.pe/'):\r\n",
        "  article['ponderacion'] += 0.3\r\n",
        "\r\n",
        "if article['autoria'] is not None:\r\n",
        "  article['ponderacion'] += 0.1\r\n",
        "\r\n",
        "try:\r\n",
        "  article['tweet'] = article_soup.find('blockquote', attrs={'class': 'twitter-tweet'}).get_text()\r\n",
        "  article['ponderacion'] += 0.1\r\n",
        "except:\r\n",
        "  article['tweet'] = None\r\n",
        "\r\n",
        "if article['fecha_de_publicacion'] is not None:\r\n",
        "  article['ponderacion'] += 0.1\r\n",
        "\r\n",
        "if article['ponderacion'] >= 0.6:\r\n",
        "  article['verificabilidad'] = True\r\n",
        "\r\n",
        "pd.DataFrame([article])\r\n"
      ],
      "execution_count": null,
      "outputs": [
        {
          "output_type": "execute_result",
          "data": {
            "text/html": [
              "<div>\n",
              "<style scoped>\n",
              "    .dataframe tbody tr th:only-of-type {\n",
              "        vertical-align: middle;\n",
              "    }\n",
              "\n",
              "    .dataframe tbody tr th {\n",
              "        vertical-align: top;\n",
              "    }\n",
              "\n",
              "    .dataframe thead th {\n",
              "        text-align: right;\n",
              "    }\n",
              "</style>\n",
              "<table border=\"1\" class=\"dataframe\">\n",
              "  <thead>\n",
              "    <tr style=\"text-align: right;\">\n",
              "      <th></th>\n",
              "      <th>url</th>\n",
              "      <th>ponderacion</th>\n",
              "      <th>verificabilidad</th>\n",
              "      <th>nombre</th>\n",
              "      <th>contenido</th>\n",
              "      <th>autoria</th>\n",
              "      <th>seccion</th>\n",
              "      <th>fecha_de_publicacion</th>\n",
              "      <th>tweet</th>\n",
              "    </tr>\n",
              "  </thead>\n",
              "  <tbody>\n",
              "    <tr>\n",
              "      <th>0</th>\n",
              "      <td>https://elcomercio.pe/lima/sucesos/la-marcha-d...</td>\n",
              "      <td>0.5</td>\n",
              "      <td>False</td>\n",
              "      <td>La marcha del Bicentenario, un mes después: un...</td>\n",
              "      <td>Conforme a los criterios deSaber másHace un me...</td>\n",
              "      <td>Rodrigo Cruz</td>\n",
              "      <td>Sucesos</td>\n",
              "      <td>2020-12-14T06:15:00-05:00</td>\n",
              "      <td>None</td>\n",
              "    </tr>\n",
              "  </tbody>\n",
              "</table>\n",
              "</div>"
            ],
            "text/plain": [
              "                                                 url  ...  tweet\n",
              "0  https://elcomercio.pe/lima/sucesos/la-marcha-d...  ...   None\n",
              "\n",
              "[1 rows x 9 columns]"
            ]
          },
          "metadata": {
            "tags": []
          },
          "execution_count": 84
        }
      ]
    },
    {
      "cell_type": "code",
      "metadata": {
        "colab": {
          "base_uri": "https://localhost:8080/",
          "height": 97
        },
        "id": "XxYqNBmklPOY",
        "outputId": "955dec9c-f852-4306-80ee-4b3e549db207"
      },
      "source": [
        "pd.DataFrame([article])"
      ],
      "execution_count": null,
      "outputs": [
        {
          "output_type": "execute_result",
          "data": {
            "text/html": [
              "<div>\n",
              "<style scoped>\n",
              "    .dataframe tbody tr th:only-of-type {\n",
              "        vertical-align: middle;\n",
              "    }\n",
              "\n",
              "    .dataframe tbody tr th {\n",
              "        vertical-align: top;\n",
              "    }\n",
              "\n",
              "    .dataframe thead th {\n",
              "        text-align: right;\n",
              "    }\n",
              "</style>\n",
              "<table border=\"1\" class=\"dataframe\">\n",
              "  <thead>\n",
              "    <tr style=\"text-align: right;\">\n",
              "      <th></th>\n",
              "      <th>url</th>\n",
              "      <th>ponderacion</th>\n",
              "      <th>verificabilidad</th>\n",
              "      <th>nombre</th>\n",
              "      <th>contenido</th>\n",
              "      <th>autoria</th>\n",
              "      <th>seccion</th>\n",
              "      <th>fecha_de_publicacion</th>\n",
              "    </tr>\n",
              "  </thead>\n",
              "  <tbody>\n",
              "    <tr>\n",
              "      <th>0</th>\n",
              "      <td>https://elcomercio.pe/lima/sucesos/la-marcha-d...</td>\n",
              "      <td>0.5</td>\n",
              "      <td>False</td>\n",
              "      <td>La marcha del Bicentenario, un mes después: un...</td>\n",
              "      <td>Conforme a los criterios deSaber másHace un me...</td>\n",
              "      <td>Rodrigo Cruz</td>\n",
              "      <td>Sucesos</td>\n",
              "      <td>2020-12-14T06:15:00-05:00</td>\n",
              "    </tr>\n",
              "  </tbody>\n",
              "</table>\n",
              "</div>"
            ],
            "text/plain": [
              "                                                 url  ...       fecha_de_publicacion\n",
              "0  https://elcomercio.pe/lima/sucesos/la-marcha-d...  ...  2020-12-14T06:15:00-05:00\n",
              "\n",
              "[1 rows x 8 columns]"
            ]
          },
          "metadata": {
            "tags": []
          },
          "execution_count": 62
        }
      ]
    },
    {
      "cell_type": "markdown",
      "metadata": {
        "id": "13k35Nlelnsm"
      },
      "source": [
        "## La República ✔️"
      ]
    },
    {
      "cell_type": "markdown",
      "metadata": {
        "id": "pgIjlrz7BchA"
      },
      "source": [
        "El patrón de los artículos de noticias de *El Comercio*, \r\n",
        "\r\n",
        "---\r\n",
        "\r\n",
        "suelen tener esta URL:\r\n",
        "\r\n",
        "`\r\n",
        "https://larepublica.pe + /sección/ + año / mes / día + /nombre-del-articulo\r\n",
        "`"
      ]
    },
    {
      "cell_type": "code",
      "metadata": {
        "id": "YHipni2z-cdj"
      },
      "source": [
        "article = {\r\n",
        "    'url': 'https://larepublica.pe/politica/2020/12/15/acusan-a-alarcon-de-haber-recibido-dos-millones-de-soles/',\r\n",
        "    'ponderacion': 0.0,\r\n",
        "    'verificabilidad': False\r\n",
        "}\r\n",
        "\r\n",
        "article_request = requests.get(article['url'])\r\n",
        "article_soup = BeautifulSoup(article_request.text, 'lxml')\r\n",
        "\r\n",
        "article['nombre'] = article_soup.find('h1', attrs={'class': 'DefaultTitle'}).get_text()\r\n",
        "article['contenido'] = ''\r\n",
        "\r\n",
        "paragraphs = article_soup.find('div', attrs={'class': 'page-internal-content'}).find('section').findAll('p')\r\n",
        "for paragraph in paragraphs:\r\n",
        "  article['contenido'] += paragraph.get_text()\r\n",
        "\r\n",
        "article['autoria'] = article_soup.find('a', attrs={'class': 'click_perfil'}).find('strong').get_text()\r\n",
        "article['seccion'] = article_soup.find('a', attrs={'class': 'DefaultSectionA'}).get_text()\r\n",
        "article['fecha_de_publicacion'] = article_soup.find('div', attrs={'class': 'comp-autor-dateTime'}).find('time').get('datetime')\r\n",
        "\r\n",
        "if article['url'].startswith('https://larepublica.pe/'):\r\n",
        "  article['ponderacion'] += 0.3\r\n",
        "\r\n",
        "if article['autoria'] is not None:\r\n",
        "  article['ponderacion'] += 0.1\r\n",
        "\r\n",
        "try:\r\n",
        "  article['tweet'] = article_soup.find('blockquote', attrs={'class': 'twitter-tweet'}).get_text()\r\n",
        "  article['ponderacion'] += 0.1\r\n",
        "except:\r\n",
        "  article['tweet'] = None\r\n",
        "\r\n",
        "if article['fecha_de_publicacion'] is not None:\r\n",
        "  article['ponderacion'] += 0.1\r\n",
        "\r\n",
        "if article['ponderacion'] >= 0.6:\r\n",
        "  article['verificabilidad'] = True\r\n"
      ],
      "execution_count": null,
      "outputs": []
    },
    {
      "cell_type": "code",
      "metadata": {
        "colab": {
          "base_uri": "https://localhost:8080/"
        },
        "id": "d9yJ-6p1uvmM",
        "outputId": "b88d27ad-bb5c-4973-8537-4f1d528222bc"
      },
      "source": [
        "pd.DataFrame([article])"
      ],
      "execution_count": null,
      "outputs": [
        {
          "output_type": "execute_result",
          "data": {
            "text/html": [
              "<div>\n",
              "<style scoped>\n",
              "    .dataframe tbody tr th:only-of-type {\n",
              "        vertical-align: middle;\n",
              "    }\n",
              "\n",
              "    .dataframe tbody tr th {\n",
              "        vertical-align: top;\n",
              "    }\n",
              "\n",
              "    .dataframe thead th {\n",
              "        text-align: right;\n",
              "    }\n",
              "</style>\n",
              "<table border=\"1\" class=\"dataframe\">\n",
              "  <thead>\n",
              "    <tr style=\"text-align: right;\">\n",
              "      <th></th>\n",
              "      <th>url</th>\n",
              "      <th>ponderacion</th>\n",
              "      <th>verificabilidad</th>\n",
              "      <th>nombre</th>\n",
              "      <th>contenido</th>\n",
              "      <th>autoria</th>\n",
              "      <th>seccion</th>\n",
              "      <th>fecha_de_publicacion</th>\n",
              "    </tr>\n",
              "  </thead>\n",
              "  <tbody>\n",
              "    <tr>\n",
              "      <th>0</th>\n",
              "      <td>https://larepublica.pe/politica/2020/12/15/acu...</td>\n",
              "      <td>0.5</td>\n",
              "      <td>False</td>\n",
              "      <td>Acusan a Alarcón de haber recibido dos millone...</td>\n",
              "      <td>El pasado 15 de noviembre, un aspirante a cola...</td>\n",
              "      <td>Liz Ferrer Rivera</td>\n",
              "      <td>Política</td>\n",
              "      <td>2020-12-15T18:20:43-00:00</td>\n",
              "    </tr>\n",
              "  </tbody>\n",
              "</table>\n",
              "</div>"
            ],
            "text/plain": [
              "                                                 url  ...       fecha_de_publicacion\n",
              "0  https://larepublica.pe/politica/2020/12/15/acu...  ...  2020-12-15T18:20:43-00:00\n",
              "\n",
              "[1 rows x 8 columns]"
            ]
          },
          "metadata": {
            "tags": []
          },
          "execution_count": 64
        }
      ]
    },
    {
      "cell_type": "markdown",
      "metadata": {
        "id": "CBbHAcHil8io"
      },
      "source": [
        "## TV Perú ✔️"
      ]
    },
    {
      "cell_type": "code",
      "metadata": {
        "id": "HP9FBsXwmEGW"
      },
      "source": [
        "article = {\r\n",
        "    'url': 'https://www.tvperu.gob.pe/noticias/nacionales/ejecutivo-dicta-toque-de-queda-de-10-pm-a-4-am-en-seis-regiones',\r\n",
        "    'ponderacion': 0.0,\r\n",
        "    'verificabilidad': False\r\n",
        "}\r\n",
        "\r\n",
        "article_request = requests.get(article['url'])\r\n",
        "article_soup = BeautifulSoup(article_request.text, 'lxml')\r\n",
        "\r\n",
        "article['nombre'] = article_soup.find('div', attrs={'id': 'content'}).find('h1').get_text()\r\n",
        "article['contenido'] = article_soup.find('div', attrs={'class': 'paragraph'}).get_text()\r\n",
        "article['autoria'] = None\r\n",
        "article['seccion'] = article_soup.find('h1').get_text()\r\n",
        "article['fecha_de_publicacion'] = article_soup.find('span', attrs={'class': 'date-display-single'}).get('content')\r\n",
        "\r\n",
        "if article['url'].startswith('https://www.tvperu.gob.pe/'):\r\n",
        "  article['ponderacion'] += 0.3\r\n",
        "\r\n",
        "if article['autoria'] is not None:\r\n",
        "  article['ponderacion'] += 0.1\r\n",
        "\r\n",
        "try:\r\n",
        "  article['tweet'] = article_soup.find('blockquote', attrs={'class': 'twitter-tweet'}).get_text()\r\n",
        "  article['ponderacion'] += 0.1\r\n",
        "except:\r\n",
        "  article['tweet'] = None\r\n",
        "\r\n",
        "if article['fecha_de_publicacion'] is not None:\r\n",
        "  article['ponderacion'] += 0.1\r\n",
        "\r\n",
        "if article['ponderacion'] >= 0.6:\r\n",
        "  article['verificabilidad'] = True\r\n"
      ],
      "execution_count": null,
      "outputs": []
    },
    {
      "cell_type": "code",
      "metadata": {
        "colab": {
          "base_uri": "https://localhost:8080/"
        },
        "id": "6CMLlShGr50A",
        "outputId": "41b378c1-54bf-4d05-84bc-6d0a825bcc5f"
      },
      "source": [
        "pd.DataFrame([article])"
      ],
      "execution_count": null,
      "outputs": [
        {
          "output_type": "execute_result",
          "data": {
            "text/html": [
              "<div>\n",
              "<style scoped>\n",
              "    .dataframe tbody tr th:only-of-type {\n",
              "        vertical-align: middle;\n",
              "    }\n",
              "\n",
              "    .dataframe tbody tr th {\n",
              "        vertical-align: top;\n",
              "    }\n",
              "\n",
              "    .dataframe thead th {\n",
              "        text-align: right;\n",
              "    }\n",
              "</style>\n",
              "<table border=\"1\" class=\"dataframe\">\n",
              "  <thead>\n",
              "    <tr style=\"text-align: right;\">\n",
              "      <th></th>\n",
              "      <th>url</th>\n",
              "      <th>ponderacion</th>\n",
              "      <th>verificabilidad</th>\n",
              "      <th>nombre</th>\n",
              "      <th>contenido</th>\n",
              "      <th>autoria</th>\n",
              "      <th>seccion</th>\n",
              "      <th>fecha_de_publicacion</th>\n",
              "      <th>tweet</th>\n",
              "    </tr>\n",
              "  </thead>\n",
              "  <tbody>\n",
              "    <tr>\n",
              "      <th>0</th>\n",
              "      <td>https://www.tvperu.gob.pe/noticias/nacionales/...</td>\n",
              "      <td>0.4</td>\n",
              "      <td>False</td>\n",
              "      <td>Ejecutivo dicta toque de queda de 10 p.m. a 4 ...</td>\n",
              "      <td>\\nEl Gobierno anunció nuevas medidas para evit...</td>\n",
              "      <td>None</td>\n",
              "      <td>Nacionales</td>\n",
              "      <td>2020-12-30T16:01:00-05:00</td>\n",
              "      <td>None</td>\n",
              "    </tr>\n",
              "  </tbody>\n",
              "</table>\n",
              "</div>"
            ],
            "text/plain": [
              "                                                 url  ...  tweet\n",
              "0  https://www.tvperu.gob.pe/noticias/nacionales/...  ...   None\n",
              "\n",
              "[1 rows x 9 columns]"
            ]
          },
          "metadata": {
            "tags": []
          },
          "execution_count": 82
        }
      ]
    },
    {
      "cell_type": "code",
      "metadata": {
        "id": "sASmEXV5R5GL"
      },
      "source": [
        "article2 = {\r\n",
        "    'url': 'https://www.tvperu.gob.pe/noticias/nacionales/pfizer-confirma-que-enviara-al-peru-1-millon-50-mil-vacunas-entre-marzo-y-abril',\r\n",
        "    'ponderacion': 0.0,\r\n",
        "    'verificabilidad': False\r\n",
        "}\r\n",
        "\r\n",
        "article_request = requests.get(article2['url'])\r\n",
        "article_soup = BeautifulSoup(article_request.text, 'lxml')\r\n",
        "\r\n",
        "article2['nombre'] = article_soup.find('div', attrs={'id': 'content'}).find('h1').get_text()\r\n",
        "article2['contenido'] = article_soup.find('div', attrs={'class': 'paragraph'}).get_text()\r\n",
        "article2['autoria'] = None\r\n",
        "article2['seccion'] = article_soup.find('h1').get_text()\r\n",
        "article2['fecha_de_publicacion'] = article_soup.find('span', attrs={'class': 'date-display-single'}).get('content')\r\n",
        "\r\n",
        "if article2['url'].startswith('https://www.tvperu.gob.pe/'):\r\n",
        "  article2['ponderacion'] += 0.3\r\n",
        "\r\n",
        "if article2['autoria'] is not None:\r\n",
        "  article2['ponderacion'] += 0.1\r\n",
        "\r\n",
        "try:\r\n",
        "  article['tweet'] = article_soup.find('blockquote', attrs={'class': 'twitter-tweet'}).get_text()\r\n",
        "  article['ponderacion'] += 0.1\r\n",
        "except:\r\n",
        "  article['tweet'] = None\r\n",
        "\r\n",
        "if article2['fecha_de_publicacion'] is not None:\r\n",
        "  article2['ponderacion'] += 0.1\r\n",
        "\r\n",
        "if article2['ponderacion'] >= 0.6:\r\n",
        "  article2['verificabilidad'] = True\r\n"
      ],
      "execution_count": null,
      "outputs": []
    },
    {
      "cell_type": "code",
      "metadata": {
        "id": "roPBS2qiWMZb"
      },
      "source": [
        "article3 = {\r\n",
        "    'url': 'https://www.tvperu.gob.pe/noticias/nacionales/gustavo-rivara-falta-muchos-estudios-y-evidencia-cientifica-para-poder-empezar-la-vacunacion-en-gestantes',\r\n",
        "    'ponderacion': 0.0,\r\n",
        "    'verificabilidad': False\r\n",
        "}\r\n",
        "\r\n",
        "article_request = requests.get(article3['url'])\r\n",
        "article_soup = BeautifulSoup(article_request.text, 'lxml')\r\n",
        "\r\n",
        "article3['nombre'] = article_soup.find('div', attrs={'id': 'content'}).find('h1').get_text()\r\n",
        "article3['contenido'] = article_soup.find('div', attrs={'class': 'paragraph'}).get_text()\r\n",
        "article3['autoria'] = None\r\n",
        "article3['seccion'] = article_soup.find('h1').get_text()\r\n",
        "article3['fecha_de_publicacion'] = article_soup.find('span', attrs={'class': 'date-display-single'}).get('content')\r\n",
        "\r\n",
        "if article3['url'].startswith('https://www.tvperu.gob.pe/'):\r\n",
        "  article3['ponderacion'] += 0.3\r\n",
        "\r\n",
        "if article3['autoria'] is not None:\r\n",
        "  article3['ponderacion'] += 0.1\r\n",
        "\r\n",
        "try:\r\n",
        "  article3['tweet'] = article_soup.find('blockquote', attrs={'class': 'twitter-tweet'}).get_text()\r\n",
        "  article3['ponderacion'] += 0.1\r\n",
        "except:\r\n",
        "  article3['tweet'] = None\r\n",
        "\r\n",
        "if article3['fecha_de_publicacion'] is not None:\r\n",
        "  article3['ponderacion'] += 0.1\r\n",
        "\r\n",
        "if article3['ponderacion'] >= 0.6:\r\n",
        "  article3['verificabilidad'] = True"
      ],
      "execution_count": null,
      "outputs": []
    },
    {
      "cell_type": "code",
      "metadata": {
        "id": "R_3Yhva8uAB1"
      },
      "source": [
        "article4 = {\r\n",
        "    'url': 'https://www.tvperu.gob.pe/noticias/politica/maria-antonieta-alva-no-he-participado-en-ningun-ensayo-clinico-para-la-vacuna-contra-el-covid-19',\r\n",
        "    'ponderacion': 0.0,\r\n",
        "    'verificabilidad': False\r\n",
        "}\r\n",
        "\r\n",
        "article_request = requests.get(article4['url'])\r\n",
        "article_soup = BeautifulSoup(article_request.text, 'lxml')\r\n",
        "\r\n",
        "article4['nombre'] = article_soup.find('div', attrs={'id': 'content'}).find('h1').get_text()\r\n",
        "article4['contenido'] = article_soup.find('div', attrs={'class': 'paragraph'}).get_text()\r\n",
        "article4['autoria'] = None\r\n",
        "article4['seccion'] = article_soup.find('h1').get_text()\r\n",
        "article4['fecha_de_publicacion'] = article_soup.find('span', attrs={'class': 'date-display-single'}).get('content')\r\n",
        "\r\n",
        "if article4['url'].startswith('https://www.tvperu.gob.pe/'):\r\n",
        "  article4['ponderacion'] += 0.3\r\n",
        "\r\n",
        "if article4['autoria'] is not None:\r\n",
        "  article4['ponderacion'] += 0.1\r\n",
        "\r\n",
        "try:\r\n",
        "  article4['tweet'] = article_soup.find('blockquote', attrs={'class': 'twitter-tweet'}).get_text()\r\n",
        "  article4['ponderacion'] += 0.1\r\n",
        "except:\r\n",
        "  article4['tweet'] = None\r\n",
        "\r\n",
        "if article4['fecha_de_publicacion'] is not None:\r\n",
        "  article4['ponderacion'] += 0.1\r\n",
        "\r\n",
        "if article4['ponderacion'] >= 0.6:\r\n",
        "  article4['verificabilidad'] = True"
      ],
      "execution_count": null,
      "outputs": []
    },
    {
      "cell_type": "code",
      "metadata": {
        "id": "pH2IDCKFnv3v"
      },
      "source": [
        "article5 = {\r\n",
        "    'url': 'https://www.tvperu.gob.pe/noticias/politica/keiko-fujimori-rechazo-pedido-de-napoleon-vigo-para-vacunar-a-congresistas-la-prioridad-la-tiene-la-primera-linea',\r\n",
        "    'ponderacion': 0.0,\r\n",
        "    'verificabilidad': False\r\n",
        "}\r\n",
        "\r\n",
        "article_request = requests.get(article5['url'])\r\n",
        "article_soup = BeautifulSoup(article_request.text, 'lxml')\r\n",
        "\r\n",
        "article5['nombre'] = article_soup.find('div', attrs={'id': 'content'}).find('h1').get_text()\r\n",
        "article5['contenido'] = article_soup.find('div', attrs={'class': 'paragraph'}).get_text()\r\n",
        "article5['autoria'] = None\r\n",
        "article5['seccion'] = article_soup.find('h1').get_text()\r\n",
        "article5['fecha_de_publicacion'] = article_soup.find('span', attrs={'class': 'date-display-single'}).get('content')\r\n",
        "\r\n",
        "if article5['url'].startswith('https://www.tvperu.gob.pe/'):\r\n",
        "  article5['ponderacion'] += 0.3\r\n",
        "\r\n",
        "if article5['autoria'] is not None:\r\n",
        "  article5['ponderacion'] += 0.1\r\n",
        "\r\n",
        "try:\r\n",
        "  article5['tweet'] = article_soup.find('blockquote', attrs={'class': 'twitter-tweet'}).get_text()\r\n",
        "  article5['ponderacion'] += 0.1\r\n",
        "except:\r\n",
        "  article5['tweet'] = None\r\n",
        "\r\n",
        "if article5['fecha_de_publicacion'] is not None:\r\n",
        "  article5['ponderacion'] += 0.1\r\n",
        "\r\n",
        "if article5['ponderacion'] >= 0.6:\r\n",
        "  article5['verificabilidad'] = True"
      ],
      "execution_count": null,
      "outputs": []
    },
    {
      "cell_type": "code",
      "metadata": {
        "colab": {
          "base_uri": "https://localhost:8080/"
        },
        "id": "72Ra5M6NwFQJ",
        "outputId": "c1f74909-1f11-4107-e960-b5416718720a"
      },
      "source": [
        "\r\n",
        "df = pd.DataFrame([article, article2, article3,article4,article5])\r\n",
        "df"
      ],
      "execution_count": null,
      "outputs": [
        {
          "output_type": "execute_result",
          "data": {
            "text/html": [
              "<div>\n",
              "<style scoped>\n",
              "    .dataframe tbody tr th:only-of-type {\n",
              "        vertical-align: middle;\n",
              "    }\n",
              "\n",
              "    .dataframe tbody tr th {\n",
              "        vertical-align: top;\n",
              "    }\n",
              "\n",
              "    .dataframe thead th {\n",
              "        text-align: right;\n",
              "    }\n",
              "</style>\n",
              "<table border=\"1\" class=\"dataframe\">\n",
              "  <thead>\n",
              "    <tr style=\"text-align: right;\">\n",
              "      <th></th>\n",
              "      <th>url</th>\n",
              "      <th>ponderacion</th>\n",
              "      <th>verificabilidad</th>\n",
              "      <th>nombre</th>\n",
              "      <th>contenido</th>\n",
              "      <th>autoria</th>\n",
              "      <th>seccion</th>\n",
              "      <th>fecha_de_publicacion</th>\n",
              "    </tr>\n",
              "  </thead>\n",
              "  <tbody>\n",
              "    <tr>\n",
              "      <th>0</th>\n",
              "      <td>https://www.tvperu.gob.pe/noticias/nacionales/...</td>\n",
              "      <td>0.4</td>\n",
              "      <td>False</td>\n",
              "      <td>Ejecutivo dicta toque de queda de 10 p.m. a 4 ...</td>\n",
              "      <td>\\nEl Gobierno anunció nuevas medidas para evit...</td>\n",
              "      <td>None</td>\n",
              "      <td>Nacionales</td>\n",
              "      <td>2020-12-30T16:01:00-05:00</td>\n",
              "    </tr>\n",
              "    <tr>\n",
              "      <th>1</th>\n",
              "      <td>https://www.tvperu.gob.pe/noticias/nacionales/...</td>\n",
              "      <td>0.4</td>\n",
              "      <td>False</td>\n",
              "      <td>Pfizer confirma que enviará al Perú 1 millón 5...</td>\n",
              "      <td>\\nLa presidenta del Consejo de Ministros, Viol...</td>\n",
              "      <td>None</td>\n",
              "      <td>Nacionales</td>\n",
              "      <td>2021-02-10T19:08:00-05:00</td>\n",
              "    </tr>\n",
              "    <tr>\n",
              "      <th>2</th>\n",
              "      <td>https://www.tvperu.gob.pe/noticias/nacionales/...</td>\n",
              "      <td>0.4</td>\n",
              "      <td>False</td>\n",
              "      <td>Gustavo Rivara: “Faltan muchos estudios y evid...</td>\n",
              "      <td>\\nEl pediatra neonatólogo, Dr. Gustavo Rivara,...</td>\n",
              "      <td>None</td>\n",
              "      <td>Nacionales</td>\n",
              "      <td>2021-02-11T12:45:00-05:00</td>\n",
              "    </tr>\n",
              "    <tr>\n",
              "      <th>3</th>\n",
              "      <td>https://www.tvperu.gob.pe/noticias/politica/ma...</td>\n",
              "      <td>0.4</td>\n",
              "      <td>False</td>\n",
              "      <td>María Antonieta Alva: “No he participado en ni...</td>\n",
              "      <td>\\nLa exministra de Economía y Finanzas, María ...</td>\n",
              "      <td>None</td>\n",
              "      <td>Política</td>\n",
              "      <td>2021-02-12T16:50:00-05:00</td>\n",
              "    </tr>\n",
              "    <tr>\n",
              "      <th>4</th>\n",
              "      <td>https://www.tvperu.gob.pe/noticias/politica/ke...</td>\n",
              "      <td>0.4</td>\n",
              "      <td>False</td>\n",
              "      <td>Keiko Fujimori rechazó pedido de Napoleón Vigo...</td>\n",
              "      <td>\\nLa lideresa y candidata presidencial de Fuer...</td>\n",
              "      <td>None</td>\n",
              "      <td>Política</td>\n",
              "      <td>2021-02-12T07:49:00-05:00</td>\n",
              "    </tr>\n",
              "  </tbody>\n",
              "</table>\n",
              "</div>"
            ],
            "text/plain": [
              "                                                 url  ...       fecha_de_publicacion\n",
              "0  https://www.tvperu.gob.pe/noticias/nacionales/...  ...  2020-12-30T16:01:00-05:00\n",
              "1  https://www.tvperu.gob.pe/noticias/nacionales/...  ...  2021-02-10T19:08:00-05:00\n",
              "2  https://www.tvperu.gob.pe/noticias/nacionales/...  ...  2021-02-11T12:45:00-05:00\n",
              "3  https://www.tvperu.gob.pe/noticias/politica/ma...  ...  2021-02-12T16:50:00-05:00\n",
              "4  https://www.tvperu.gob.pe/noticias/politica/ke...  ...  2021-02-12T07:49:00-05:00\n",
              "\n",
              "[5 rows x 8 columns]"
            ]
          },
          "metadata": {
            "tags": []
          },
          "execution_count": 70
        }
      ]
    },
    {
      "cell_type": "markdown",
      "metadata": {
        "id": "H4veQb9sl-Ac"
      },
      "source": [
        "## RPP ✔️"
      ]
    },
    {
      "cell_type": "code",
      "metadata": {
        "colab": {
          "base_uri": "https://localhost:8080/"
        },
        "id": "R8MhOrETmEe2",
        "outputId": "480fc023-6dbf-4711-d6e5-d154e3b74dc7"
      },
      "source": [
        "article = {\r\n",
        "    'url': 'https://rpp.pe/politica/elecciones/el-candidato-presidencial-julio-guzman-dio-positivo-a-la-covid-19-noticia-1316640',\r\n",
        "    'ponderacion': 0.0,\r\n",
        "    'verificabilidad': False\r\n",
        "}\r\n",
        "\r\n",
        "article_request = requests.get(article['url'])\r\n",
        "article_soup = BeautifulSoup(article_request.text, 'lxml')\r\n",
        "article['nombre'] = article_soup.find('header', attrs={'class': 'story-header'}).find('h1').get_text()\r\n",
        "article['contenido'] = ''\r\n",
        "article_body = article_soup.find('div', attrs={'id': 'article-body'}).find_all('p')\r\n",
        "for paragraph in article_body:\r\n",
        "  article['contenido'] += paragraph.get_text()\r\n",
        "article['autoria'] = None\r\n",
        "article['seccion'] = article_soup.find('div', attrs={'class': 'story-top'}).find('span').get_text()\r\n",
        "article['fecha_de_publicacion'] = article_soup.find('time').get('datetime')\r\n",
        "\r\n",
        "if article['url'].startswith('https://rpp.pe/'):\r\n",
        "  article['ponderacion'] += 0.3\r\n",
        "\r\n",
        "if article['autoria'] is not None:\r\n",
        "  article['ponderacion'] += 0.1\r\n",
        "\r\n",
        "try:\r\n",
        "  article['tweet'] = article_soup.find('blockquote', attrs={'class': 'twitter-tweet'}).get_text()\r\n",
        "  article['ponderacion'] += 0.1\r\n",
        "except:\r\n",
        "  article['tweet'] = None\r\n",
        "\r\n",
        "if article['fecha_de_publicacion'] is not None:\r\n",
        "  article['ponderacion'] += 0.1\r\n",
        "\r\n",
        "if article['ponderacion'] >= 0.6:\r\n",
        "  article['verificabilidad'] = True\r\n",
        "\r\n",
        "pd.DataFrame([article])\r\n"
      ],
      "execution_count": null,
      "outputs": [
        {
          "output_type": "execute_result",
          "data": {
            "text/html": [
              "<div>\n",
              "<style scoped>\n",
              "    .dataframe tbody tr th:only-of-type {\n",
              "        vertical-align: middle;\n",
              "    }\n",
              "\n",
              "    .dataframe tbody tr th {\n",
              "        vertical-align: top;\n",
              "    }\n",
              "\n",
              "    .dataframe thead th {\n",
              "        text-align: right;\n",
              "    }\n",
              "</style>\n",
              "<table border=\"1\" class=\"dataframe\">\n",
              "  <thead>\n",
              "    <tr style=\"text-align: right;\">\n",
              "      <th></th>\n",
              "      <th>url</th>\n",
              "      <th>ponderacion</th>\n",
              "      <th>verificabilidad</th>\n",
              "      <th>nombre</th>\n",
              "      <th>contenido</th>\n",
              "      <th>autoria</th>\n",
              "      <th>seccion</th>\n",
              "      <th>fecha_de_publicacion</th>\n",
              "      <th>tweet</th>\n",
              "    </tr>\n",
              "  </thead>\n",
              "  <tbody>\n",
              "    <tr>\n",
              "      <th>0</th>\n",
              "      <td>https://rpp.pe/politica/elecciones/el-candidat...</td>\n",
              "      <td>0.5</td>\n",
              "      <td>False</td>\n",
              "      <td>El candidato presidencial Julio Guzmán dio pos...</td>\n",
              "      <td>El candidato a la presidencia de la República ...</td>\n",
              "      <td>None</td>\n",
              "      <td>Elecciones</td>\n",
              "      <td>2021-01-22T15:40:10-05:00</td>\n",
              "      <td>pic.twitter.com/HyWZJUENnO— Julio Guzmán (@jul...</td>\n",
              "    </tr>\n",
              "  </tbody>\n",
              "</table>\n",
              "</div>"
            ],
            "text/plain": [
              "                                                 url  ...                                              tweet\n",
              "0  https://rpp.pe/politica/elecciones/el-candidat...  ...  pic.twitter.com/HyWZJUENnO— Julio Guzmán (@jul...\n",
              "\n",
              "[1 rows x 9 columns]"
            ]
          },
          "metadata": {
            "tags": []
          },
          "execution_count": 71
        }
      ]
    },
    {
      "cell_type": "code",
      "metadata": {
        "id": "tX_88_SAcnIL"
      },
      "source": [
        ""
      ],
      "execution_count": null,
      "outputs": []
    },
    {
      "cell_type": "code",
      "metadata": {
        "id": "gWoC7LRnoZSC"
      },
      "source": [
        "article2 = {\r\n",
        "    'url': 'https://rpp.pe/lima/actualidad/coronavirus-en-peru-joven-denuncia-presunta-suplantacion-de-identidad-en-el-portal-para-solicitar-pase-laboral-noticia-1320751'\r\n",
        "}\r\n",
        "article_request = requests.get(article2['url'])\r\n",
        "article_soup = BeautifulSoup(article_request.text, 'lxml')\r\n",
        "article2['nombre'] = article_soup.find('header', attrs={'class': 'story-header'}).find('h1').get_text()\r\n",
        "article2['contenido'] = ''\r\n",
        "article_body = article_soup.find('div', attrs={'id': 'article-body'}).find_all('p')\r\n",
        "for paragraph in article_body:\r\n",
        "  article2['contenido'] += paragraph.get_text()\r\n",
        "article2['autoria'] = None\r\n",
        "try:\r\n",
        "  article2['seccion'] = article_soup.find('div', attrs={'class': 'story-top'}).find('span').get_text()\r\n",
        "except:\r\n",
        "  article2['seccion'] = None\r\n",
        "\r\n",
        "article2['fecha_de_publicacion'] = article_soup.find('time').get('datetime')\r\n"
      ],
      "execution_count": null,
      "outputs": []
    },
    {
      "cell_type": "code",
      "metadata": {
        "id": "YhizC-G0oZev",
        "colab": {
          "base_uri": "https://localhost:8080/"
        },
        "outputId": "45395775-af50-4cd1-8463-a9eb21fdc422"
      },
      "source": [
        "article3 = {\r\n",
        "    'url': 'https://rpp.pe/politica/gobierno/coronavirus-peru-francisco-sagasti-advierte-que-intervendra-de-la-manera-mas-dura-si-una-empresa-se-niega-a-disponer-de-oxigeno-noticia-1320838'\r\n",
        "}\r\n",
        "article_request = requests.get(article3['url'])\r\n",
        "article_soup = BeautifulSoup(article_request.text, 'lxml')\r\n",
        "article3['nombre'] = article_soup.find('header', attrs={'class': 'story-header'}).find('h1').get_text()\r\n",
        "article3['contenido'] = ''\r\n",
        "article_body = article_soup.find('div', attrs={'id': 'article-body'}).find_all('p')\r\n",
        "for paragraph in article_body:\r\n",
        "  article3['contenido'] += paragraph.get_text()\r\n",
        "article3['autoria'] = None\r\n",
        "article3['seccion'] = article_soup.find('div', attrs={'class': 'story-top'}).find('span').get_text()\r\n",
        "article3['fecha_de_publicacion'] = article_soup.find('time').get('datetime')\r\n",
        "article_request.status_code"
      ],
      "execution_count": null,
      "outputs": [
        {
          "output_type": "execute_result",
          "data": {
            "text/plain": [
              "200"
            ]
          },
          "metadata": {
            "tags": []
          },
          "execution_count": 73
        }
      ]
    },
    {
      "cell_type": "code",
      "metadata": {
        "id": "vLhR5RoLoZqQ"
      },
      "source": [
        "article4 = {\r\n",
        "    'url': 'https://rpp.pe/politica/gobierno/coronavirus-peru-francisco-sagasti-advierte-que-intervendra-de-la-manera-mas-dura-si-una-empresa-se-niega-a-disponer-de-oxigeno-noticia-1320838'\r\n",
        "}\r\n",
        "article_request = requests.get(article2['url'])\r\n",
        "article_soup = BeautifulSoup(article_request.text, 'lxml')\r\n",
        "article2['nombre'] = article_soup.find('header', attrs={'class': 'story-header'}).find('h1').get_text()\r\n",
        "article2['contenido'] = ''\r\n",
        "article_body = article_soup.find('div', attrs={'id': 'article-body'}).find_all('p')\r\n",
        "for paragraph in article_body:\r\n",
        "  article['contenido'] += paragraph.get_text()\r\n",
        "article2['autoria'] = None\r\n",
        "try:\r\n",
        "  article2['seccion'] = article_soup.find('div', attrs={'class': 'story-top'}).find('span').get_text()\r\n",
        "except:\r\n",
        "  article2['seccion'] = None\r\n",
        "article2['fecha_de_publicacion'] = article_soup.find('time').get('datetime')\r\n"
      ],
      "execution_count": null,
      "outputs": []
    },
    {
      "cell_type": "code",
      "metadata": {
        "id": "_NzNJwVEoZ3a",
        "colab": {
          "base_uri": "https://localhost:8080/"
        },
        "outputId": "ce6b647a-a048-42a9-eecb-e23e53db8f9e"
      },
      "source": [
        "article5 = {\r\n",
        "    'url': 'https://rpp.pe/politica/gobierno/coronavirus-peru-francisco-sagasti-advierte-que-intervendra-de-la-manera-mas-dura-si-una-empresa-se-niega-a-disponer-de-oxigeno-noticia-1320838'\r\n",
        "}\r\n",
        "article_request = requests.get(article2['url'])\r\n",
        "article_soup = BeautifulSoup(article_request.text, 'lxml')\r\n",
        "article2['nombre'] = article_soup.find('header', attrs={'class': 'story-header'}).find('h1').get_text()\r\n",
        "article2['contenido'] = ''\r\n",
        "article_body = article_soup.find('div', attrs={'id': 'article-body'}).find_all('p')\r\n",
        "for paragraph in article_body:\r\n",
        "  article['contenido'] += paragraph.get_text()\r\n",
        "article2['autoria'] = None\r\n",
        "# article2['seccion'] = article_soup.find('div', attrs={'class': 'story-top'}).find('span').get_text()\r\n",
        "article2['fecha_de_publicacion'] = article_soup.find('time').get('datetime')\r\n",
        "article_request.status_code"
      ],
      "execution_count": null,
      "outputs": [
        {
          "output_type": "execute_result",
          "data": {
            "text/plain": [
              "200"
            ]
          },
          "metadata": {
            "tags": []
          },
          "execution_count": 75
        }
      ]
    },
    {
      "cell_type": "code",
      "metadata": {
        "id": "mz9qVrEBBHGd",
        "colab": {
          "base_uri": "https://localhost:8080/"
        },
        "outputId": "58785c8a-4820-4399-f3e0-02a2b53fff7b"
      },
      "source": [
        "pd.DataFrame([article,article2])"
      ],
      "execution_count": null,
      "outputs": [
        {
          "output_type": "execute_result",
          "data": {
            "text/html": [
              "<div>\n",
              "<style scoped>\n",
              "    .dataframe tbody tr th:only-of-type {\n",
              "        vertical-align: middle;\n",
              "    }\n",
              "\n",
              "    .dataframe tbody tr th {\n",
              "        vertical-align: top;\n",
              "    }\n",
              "\n",
              "    .dataframe thead th {\n",
              "        text-align: right;\n",
              "    }\n",
              "</style>\n",
              "<table border=\"1\" class=\"dataframe\">\n",
              "  <thead>\n",
              "    <tr style=\"text-align: right;\">\n",
              "      <th></th>\n",
              "      <th>url</th>\n",
              "      <th>ponderacion</th>\n",
              "      <th>verificabilidad</th>\n",
              "      <th>nombre</th>\n",
              "      <th>contenido</th>\n",
              "      <th>autoria</th>\n",
              "      <th>seccion</th>\n",
              "      <th>fecha_de_publicacion</th>\n",
              "      <th>tweet</th>\n",
              "    </tr>\n",
              "  </thead>\n",
              "  <tbody>\n",
              "    <tr>\n",
              "      <th>0</th>\n",
              "      <td>https://rpp.pe/politica/elecciones/el-candidat...</td>\n",
              "      <td>0.5</td>\n",
              "      <td>False</td>\n",
              "      <td>El candidato presidencial Julio Guzmán dio pos...</td>\n",
              "      <td>El candidato a la presidencia de la República ...</td>\n",
              "      <td>None</td>\n",
              "      <td>Elecciones</td>\n",
              "      <td>2021-01-22T15:40:10-05:00</td>\n",
              "      <td>pic.twitter.com/HyWZJUENnO— Julio Guzmán (@jul...</td>\n",
              "    </tr>\n",
              "    <tr>\n",
              "      <th>1</th>\n",
              "      <td>https://rpp.pe/lima/actualidad/coronavirus-en-...</td>\n",
              "      <td>NaN</td>\n",
              "      <td>NaN</td>\n",
              "      <td>Joven denuncia presunta suplantación de identi...</td>\n",
              "      <td></td>\n",
              "      <td>None</td>\n",
              "      <td>None</td>\n",
              "      <td>2021-02-13T13:55:18-05:00</td>\n",
              "      <td>NaN</td>\n",
              "    </tr>\n",
              "  </tbody>\n",
              "</table>\n",
              "</div>"
            ],
            "text/plain": [
              "                                                 url  ...                                              tweet\n",
              "0  https://rpp.pe/politica/elecciones/el-candidat...  ...  pic.twitter.com/HyWZJUENnO— Julio Guzmán (@jul...\n",
              "1  https://rpp.pe/lima/actualidad/coronavirus-en-...  ...                                                NaN\n",
              "\n",
              "[2 rows x 9 columns]"
            ]
          },
          "metadata": {
            "tags": []
          },
          "execution_count": 76
        }
      ]
    },
    {
      "cell_type": "markdown",
      "metadata": {
        "id": "CKtLb03CIrDr"
      },
      "source": [
        "# Alexa ✔️\r\n",
        "\r\n",
        "El patrón de información de los principales portales de noticias provistos por *Alexa*:\r\n",
        "\r\n",
        "`https://www.alexa.com/ siteinfo / + URL del portal de noticias`"
      ]
    },
    {
      "cell_type": "code",
      "metadata": {
        "id": "NosXTOZCmFiN"
      },
      "source": [
        "def get_rank_of_news_portal(url):\r\n",
        "  url_media = f'https://www.alexa.com/siteinfo/{url}'\r\n",
        "  url_media_request = requests.get(url_media)\r\n",
        "  url_media_soup = BeautifulSoup(url_media_request.text, 'lxml')\r\n",
        "  return url_media_soup.find('div', attrs={'class': 'rankmini-rank'}).get_text().strip().replace('#', '').replace(',', '')\r\n"
      ],
      "execution_count": null,
      "outputs": []
    },
    {
      "cell_type": "markdown",
      "metadata": {
        "id": "evon_PZiwHFb"
      },
      "source": [
        "Gracias a los datos provistos por Alexa podemos determinar el tráfico recibido por un portal de noticias en las últimas 24 horas, a través de un *Rank*.\r\n",
        "\r\n",
        "Más cerca al 0, mayor popularidad"
      ]
    },
    {
      "cell_type": "code",
      "metadata": {
        "id": "RqxNZunPwGe5",
        "colab": {
          "base_uri": "https://localhost:8080/",
          "height": 204
        },
        "outputId": "8ede855c-cafd-4499-f5a1-14dd2c482875"
      },
      "source": [
        "media_information_example = [\r\n",
        "                             {\r\n",
        "                                 'url': 'elcomercio.pe',\r\n",
        "                                 'rank': get_rank_of_news_portal('elcomercio.pe')\r\n",
        "                             },\r\n",
        "                             {\r\n",
        "                                 'url': 'larepublica.pe',\r\n",
        "                                 'rank': get_rank_of_news_portal('larepublica.pe')\r\n",
        "                             },\r\n",
        "                             {\r\n",
        "                                 'url': 'rpp.pe',\r\n",
        "                                 'rank': get_rank_of_news_portal('rpp.pe')\r\n",
        "                             },\r\n",
        "                             {\r\n",
        "                                 'url': 'tvperu.gob.pe',\r\n",
        "                                 'rank': get_rank_of_news_portal('tvperu.gob.pe')\r\n",
        "                             },\r\n",
        "\r\n",
        "                             {\r\n",
        "                                 'url': 'ojo-publico.com',\r\n",
        "                                 'rank': get_rank_of_news_portal('ojo-publico.com')\r\n",
        "                             },\r\n",
        "]\r\n",
        "\r\n",
        "dataframe_media_information = pd.DataFrame(media_information_example)\r\n",
        "\r\n",
        "# Ordernar desde el más visitado hasta el menos visitado en un conjunto de portales de noticias de ejemplo\r\n",
        "\r\n",
        "dataframe_media_information.sort_values(by= \"rank\", ascending=False)"
      ],
      "execution_count": null,
      "outputs": [
        {
          "output_type": "execute_result",
          "data": {
            "text/html": [
              "<div>\n",
              "<style scoped>\n",
              "    .dataframe tbody tr th:only-of-type {\n",
              "        vertical-align: middle;\n",
              "    }\n",
              "\n",
              "    .dataframe tbody tr th {\n",
              "        vertical-align: top;\n",
              "    }\n",
              "\n",
              "    .dataframe thead th {\n",
              "        text-align: right;\n",
              "    }\n",
              "</style>\n",
              "<table border=\"1\" class=\"dataframe\">\n",
              "  <thead>\n",
              "    <tr style=\"text-align: right;\">\n",
              "      <th></th>\n",
              "      <th>url</th>\n",
              "      <th>rank</th>\n",
              "    </tr>\n",
              "  </thead>\n",
              "  <tbody>\n",
              "    <tr>\n",
              "      <th>3</th>\n",
              "      <td>tvperu.gob.pe</td>\n",
              "      <td>73322</td>\n",
              "    </tr>\n",
              "    <tr>\n",
              "      <th>1</th>\n",
              "      <td>larepublica.pe</td>\n",
              "      <td>4719</td>\n",
              "    </tr>\n",
              "    <tr>\n",
              "      <th>2</th>\n",
              "      <td>rpp.pe</td>\n",
              "      <td>4174</td>\n",
              "    </tr>\n",
              "    <tr>\n",
              "      <th>0</th>\n",
              "      <td>elcomercio.pe</td>\n",
              "      <td>2715</td>\n",
              "    </tr>\n",
              "    <tr>\n",
              "      <th>4</th>\n",
              "      <td>ojo-publico.com</td>\n",
              "      <td>164860</td>\n",
              "    </tr>\n",
              "  </tbody>\n",
              "</table>\n",
              "</div>"
            ],
            "text/plain": [
              "               url    rank\n",
              "3    tvperu.gob.pe   73322\n",
              "1   larepublica.pe    4719\n",
              "2           rpp.pe    4174\n",
              "0    elcomercio.pe    2715\n",
              "4  ojo-publico.com  164860"
            ]
          },
          "metadata": {
            "tags": []
          },
          "execution_count": 78
        }
      ]
    }
  ]
}